{
 "cells": [
  {
   "cell_type": "code",
   "execution_count": 1,
   "metadata": {},
   "outputs": [],
   "source": [
    "import pandas as pd \n",
    "import plotly \n",
    "import matplotlib.pyplot as plt \n",
    "import json\n",
    "import plotly.graph_objects as go\n"
   ]
  },
  {
   "cell_type": "code",
   "execution_count": 2,
   "metadata": {},
   "outputs": [],
   "source": [
    "df=pd.read_csv(\"tweets-first-lang.csv\")"
   ]
  },
  {
   "cell_type": "code",
   "execution_count": 3,
   "metadata": {},
   "outputs": [
    {
     "data": {
      "text/html": [
       "<div>\n",
       "<style scoped>\n",
       "    .dataframe tbody tr th:only-of-type {\n",
       "        vertical-align: middle;\n",
       "    }\n",
       "\n",
       "    .dataframe tbody tr th {\n",
       "        vertical-align: top;\n",
       "    }\n",
       "\n",
       "    .dataframe thead th {\n",
       "        text-align: right;\n",
       "    }\n",
       "</style>\n",
       "<table border=\"1\" class=\"dataframe\">\n",
       "  <thead>\n",
       "    <tr style=\"text-align: right;\">\n",
       "      <th></th>\n",
       "      <th>status_id</th>\n",
       "      <th>created_at</th>\n",
       "      <th>text</th>\n",
       "      <th>category</th>\n",
       "      <th>category2</th>\n",
       "      <th>answer</th>\n",
       "    </tr>\n",
       "  </thead>\n",
       "  <tbody>\n",
       "    <tr>\n",
       "      <th>0</th>\n",
       "      <td>1181932863048028162</td>\n",
       "      <td>2019-10-09T14:02:08Z</td>\n",
       "      <td>First language: C6</td>\n",
       "      <td>first language</td>\n",
       "      <td>first language</td>\n",
       "      <td>c6</td>\n",
       "    </tr>\n",
       "    <tr>\n",
       "      <th>1</th>\n",
       "      <td>1181932863048028162</td>\n",
       "      <td>2019-10-09T14:02:08Z</td>\n",
       "      <td>Had difficulties: C in the context of Amiga OS</td>\n",
       "      <td>had difficulties</td>\n",
       "      <td>had difficulties</td>\n",
       "      <td>c</td>\n",
       "    </tr>\n",
       "    <tr>\n",
       "      <th>2</th>\n",
       "      <td>1181932863048028162</td>\n",
       "      <td>2019-10-09T14:02:08Z</td>\n",
       "      <td>Had difficulties: C in the context of Amiga OS</td>\n",
       "      <td>had difficulties</td>\n",
       "      <td>had difficulties</td>\n",
       "      <td>in the context of amiga os</td>\n",
       "    </tr>\n",
       "    <tr>\n",
       "      <th>3</th>\n",
       "      <td>1181932863048028162</td>\n",
       "      <td>2019-10-09T14:02:08Z</td>\n",
       "      <td>Most used: C++</td>\n",
       "      <td>most used</td>\n",
       "      <td>most used</td>\n",
       "      <td>c++</td>\n",
       "    </tr>\n",
       "    <tr>\n",
       "      <th>4</th>\n",
       "      <td>1181932863048028162</td>\n",
       "      <td>2019-10-09T14:02:08Z</td>\n",
       "      <td>Totally hate: Python</td>\n",
       "      <td>totally hate</td>\n",
       "      <td>hate</td>\n",
       "      <td>python</td>\n",
       "    </tr>\n",
       "  </tbody>\n",
       "</table>\n",
       "</div>"
      ],
      "text/plain": [
       "             status_id            created_at  \\\n",
       "0  1181932863048028162  2019-10-09T14:02:08Z   \n",
       "1  1181932863048028162  2019-10-09T14:02:08Z   \n",
       "2  1181932863048028162  2019-10-09T14:02:08Z   \n",
       "3  1181932863048028162  2019-10-09T14:02:08Z   \n",
       "4  1181932863048028162  2019-10-09T14:02:08Z   \n",
       "\n",
       "                                             text          category  \\\n",
       "0                              First language: C6    first language   \n",
       "1  Had difficulties: C in the context of Amiga OS  had difficulties   \n",
       "2  Had difficulties: C in the context of Amiga OS  had difficulties   \n",
       "3                                  Most used: C++         most used   \n",
       "4                            Totally hate: Python      totally hate   \n",
       "\n",
       "          category2                      answer  \n",
       "0    first language                          c6  \n",
       "1  had difficulties                           c  \n",
       "2  had difficulties  in the context of amiga os  \n",
       "3         most used                         c++  \n",
       "4              hate                      python  "
      ]
     },
     "execution_count": 3,
     "metadata": {},
     "output_type": "execute_result"
    }
   ],
   "source": [
    "df.head()"
   ]
  },
  {
   "cell_type": "code",
   "execution_count": 4,
   "metadata": {},
   "outputs": [
    {
     "data": {
      "text/html": [
       "<div>\n",
       "<style scoped>\n",
       "    .dataframe tbody tr th:only-of-type {\n",
       "        vertical-align: middle;\n",
       "    }\n",
       "\n",
       "    .dataframe tbody tr th {\n",
       "        vertical-align: top;\n",
       "    }\n",
       "\n",
       "    .dataframe thead th {\n",
       "        text-align: right;\n",
       "    }\n",
       "</style>\n",
       "<table border=\"1\" class=\"dataframe\">\n",
       "  <thead>\n",
       "    <tr style=\"text-align: right;\">\n",
       "      <th></th>\n",
       "      <th>status_id</th>\n",
       "      <th>created_at</th>\n",
       "      <th>text</th>\n",
       "      <th>category</th>\n",
       "      <th>category2</th>\n",
       "      <th>answer</th>\n",
       "    </tr>\n",
       "  </thead>\n",
       "  <tbody>\n",
       "    <tr>\n",
       "      <th>122867</th>\n",
       "      <td>1181017008374050816</td>\n",
       "      <td>2019-10-07T01:22:51Z</td>\n",
       "      <td>Had difficulties: C</td>\n",
       "      <td>had difficulties</td>\n",
       "      <td>had difficulties</td>\n",
       "      <td>c</td>\n",
       "    </tr>\n",
       "    <tr>\n",
       "      <th>122868</th>\n",
       "      <td>1181017008374050816</td>\n",
       "      <td>2019-10-07T01:22:51Z</td>\n",
       "      <td>Most used: Java</td>\n",
       "      <td>most used</td>\n",
       "      <td>most used</td>\n",
       "      <td>java</td>\n",
       "    </tr>\n",
       "    <tr>\n",
       "      <th>122869</th>\n",
       "      <td>1181017008374050816</td>\n",
       "      <td>2019-10-07T01:22:51Z</td>\n",
       "      <td>Totally hate: R</td>\n",
       "      <td>totally hate</td>\n",
       "      <td>hate</td>\n",
       "      <td>r</td>\n",
       "    </tr>\n",
       "    <tr>\n",
       "      <th>122870</th>\n",
       "      <td>1181017008374050816</td>\n",
       "      <td>2019-10-07T01:22:51Z</td>\n",
       "      <td>Most loved: Python</td>\n",
       "      <td>most loved</td>\n",
       "      <td>love</td>\n",
       "      <td>python</td>\n",
       "    </tr>\n",
       "    <tr>\n",
       "      <th>122871</th>\n",
       "      <td>1181017008374050816</td>\n",
       "      <td>2019-10-07T01:22:51Z</td>\n",
       "      <td>For beginners: Python</td>\n",
       "      <td>for beginners</td>\n",
       "      <td>beginner</td>\n",
       "      <td>python</td>\n",
       "    </tr>\n",
       "  </tbody>\n",
       "</table>\n",
       "</div>"
      ],
      "text/plain": [
       "                  status_id            created_at                   text  \\\n",
       "122867  1181017008374050816  2019-10-07T01:22:51Z    Had difficulties: C   \n",
       "122868  1181017008374050816  2019-10-07T01:22:51Z        Most used: Java   \n",
       "122869  1181017008374050816  2019-10-07T01:22:51Z        Totally hate: R   \n",
       "122870  1181017008374050816  2019-10-07T01:22:51Z     Most loved: Python   \n",
       "122871  1181017008374050816  2019-10-07T01:22:51Z  For beginners: Python   \n",
       "\n",
       "                category         category2  answer  \n",
       "122867  had difficulties  had difficulties       c  \n",
       "122868         most used         most used    java  \n",
       "122869      totally hate              hate       r  \n",
       "122870        most loved              love  python  \n",
       "122871     for beginners          beginner  python  "
      ]
     },
     "execution_count": 4,
     "metadata": {},
     "output_type": "execute_result"
    }
   ],
   "source": [
    "df.tail()"
   ]
  },
  {
   "cell_type": "code",
   "execution_count": 5,
   "metadata": {},
   "outputs": [
    {
     "data": {
      "text/plain": [
       "Index(['status_id', 'created_at', 'text', 'category', 'category2', 'answer'], dtype='object')"
      ]
     },
     "execution_count": 5,
     "metadata": {},
     "output_type": "execute_result"
    }
   ],
   "source": [
    "df.columns"
   ]
  },
  {
   "cell_type": "code",
   "execution_count": 6,
   "metadata": {},
   "outputs": [
    {
     "name": "stdout",
     "output_type": "stream",
     "text": [
      "<class 'pandas.core.frame.DataFrame'>\n",
      "RangeIndex: 122872 entries, 0 to 122871\n",
      "Data columns (total 6 columns):\n",
      "status_id     122872 non-null int64\n",
      "created_at    122872 non-null object\n",
      "text          122872 non-null object\n",
      "category      122872 non-null object\n",
      "category2     122872 non-null object\n",
      "answer        122822 non-null object\n",
      "dtypes: int64(1), object(5)\n",
      "memory usage: 5.6+ MB\n"
     ]
    }
   ],
   "source": [
    "df.info()"
   ]
  },
  {
   "cell_type": "code",
   "execution_count": null,
   "metadata": {},
   "outputs": [],
   "source": [
    "df.created_at=pd.to_datetime(df[\"created_at\"])"
   ]
  },
  {
   "cell_type": "code",
   "execution_count": null,
   "metadata": {},
   "outputs": [],
   "source": [
    "df.head()"
   ]
  },
  {
   "cell_type": "code",
   "execution_count": null,
   "metadata": {},
   "outputs": [],
   "source": [
    "filters=(\"first language\",\"had difficulties\",\"most used\",\"beginner\",\"love\",\"hate\",\"curious\",\"insteresting\",\"currently\")\n",
    "def filter1(x):\n",
    "    if x.lower() in filters  :\n",
    "        return \"True\"\n",
    "    else:\n",
    "        return \"False\"\n",
    "df[\"filter1\"]=df.category2.apply(lambda x:filter1(x))"
   ]
  },
  {
   "cell_type": "code",
   "execution_count": null,
   "metadata": {},
   "outputs": [],
   "source": [
    "df.filter1.unique()"
   ]
  },
  {
   "cell_type": "code",
   "execution_count": null,
   "metadata": {},
   "outputs": [],
   "source": [
    "df=df[df.filter1==\"True\"]\n",
    "df\n"
   ]
  },
  {
   "cell_type": "code",
   "execution_count": null,
   "metadata": {},
   "outputs": [],
   "source": [
    "df.category2.unique()"
   ]
  },
  {
   "cell_type": "code",
   "execution_count": null,
   "metadata": {},
   "outputs": [],
   "source": [
    "df=df[[\"category2\",\"answer\"]].copy()"
   ]
  },
  {
   "cell_type": "code",
   "execution_count": null,
   "metadata": {
    "scrolled": false
   },
   "outputs": [],
   "source": [
    "df"
   ]
  },
  {
   "cell_type": "code",
   "execution_count": null,
   "metadata": {},
   "outputs": [],
   "source": [
    "#list(df.answer.unique())"
   ]
  },
  {
   "cell_type": "code",
   "execution_count": null,
   "metadata": {},
   "outputs": [],
   "source": [
    "programing_list=list()\n",
    "with open(\"data.txt\") as dosya:\n",
    "    data=json.load(dosya)\n",
    "    for item in data[\"itemListElement\"]:\n",
    "        programing_list.append(item[\"item\"][\"name\"].lower())\n",
    "programing_list=tuple(programing_list)\n",
    "#programing_list"
   ]
  },
  {
   "cell_type": "code",
   "execution_count": null,
   "metadata": {},
   "outputs": [],
   "source": [
    "def filter2(x):\n",
    "    if x in programing_list :\n",
    "        return \"True\"\n",
    "    else:\n",
    "        return \"False\"\n",
    "df[\"filter2\"]=df.answer.apply(lambda x:filter2(x))\n",
    "df"
   ]
  },
  {
   "cell_type": "code",
   "execution_count": null,
   "metadata": {},
   "outputs": [],
   "source": [
    "df=df[df.filter2==\"True\"]\n",
    "df"
   ]
  },
  {
   "cell_type": "code",
   "execution_count": null,
   "metadata": {},
   "outputs": [],
   "source": [
    "df.category2.unique()"
   ]
  },
  {
   "cell_type": "code",
   "execution_count": null,
   "metadata": {
    "scrolled": false
   },
   "outputs": [],
   "source": [
    "had_diff=df[df.category2==\"had difficulties\"]\n",
    "had_diff\n",
    "had_diff_dict=dict(had_diff.answer.value_counts())\n",
    "had_diff_dFrame=pd.DataFrame()\n",
    "had_diff_dFrame[\"name\"]=[item.upper() for item in had_diff_dict.keys()]\n",
    "had_diff_dFrame[\"value\"]=had_diff_dict.values()\n",
    "had_diff_dFrame\n",
    "\n",
    "\n",
    "colors = ['lightslategray',] * 20\n",
    "\n",
    "fig = go.Figure(data=[go.Bar(\n",
    "    x=had_diff_dFrame[:20].name,\n",
    "    y=had_diff_dFrame[:20].value,\n",
    "    marker_color=colors # marker color can be a single color value or an iterable\n",
    ")])\n",
    "fig.update_layout(title_text='Had difficulties Programing Language')\n",
    "\n"
   ]
  },
  {
   "cell_type": "markdown",
   "metadata": {},
   "source": [
    "<img src=\"images/1.png\">"
   ]
  },
  {
   "cell_type": "code",
   "execution_count": null,
   "metadata": {},
   "outputs": [],
   "source": [
    "first_lang=df[df.category2==\"first language\"]\n",
    "first_lang\n",
    "first_lang_dict=dict(first_lang.answer.value_counts())\n",
    "first_lang_data=pd.DataFrame()\n",
    "first_lang_data[\"name\"]=[item.upper() for item in first_lang_dict.keys()]\n",
    "first_lang_data[\"value\"]=first_lang_dict.values()\n",
    "\n",
    "colors = ['lightslategray',] * 20\n",
    "\n",
    "fig = go.Figure(data=[go.Bar(\n",
    "    x=first_lang_data[:20].name,\n",
    "    y=first_lang_data[:20].value,\n",
    "    marker_color=colors # marker color can be a single color value or an iterable\n",
    ")])\n",
    "fig.update_layout(title_text='First Programing Language')"
   ]
  },
  {
   "cell_type": "markdown",
   "metadata": {},
   "source": [
    "<img src=\"images/2.png\">"
   ]
  },
  {
   "cell_type": "code",
   "execution_count": null,
   "metadata": {},
   "outputs": [],
   "source": [
    "most=df[df.category2==\"most used\"]\n",
    "most\n",
    "most_dict=dict(most.answer.value_counts())\n",
    "most_data=pd.DataFrame()\n",
    "most_data[\"name\"]=[item.upper() for item in most_dict.keys()]\n",
    "most_data[\"value\"]=most_dict.values()\n",
    "\n",
    "\n",
    "colors = ['lightslategray',] * 20\n",
    "\n",
    "fig = go.Figure(data=[go.Bar(\n",
    "    x=most_data[:20].name,\n",
    "    y=most_data[:20].value,\n",
    "    marker_color=colors # marker color can be a single color value or an iterable\n",
    ")])\n",
    "fig.update_layout(title_text='Most used programing language')"
   ]
  },
  {
   "cell_type": "markdown",
   "metadata": {},
   "source": [
    "<img src=\"images/3.png\">"
   ]
  },
  {
   "cell_type": "code",
   "execution_count": null,
   "metadata": {},
   "outputs": [],
   "source": [
    "hate=df[df.category2==\"hate\"]\n",
    "hate\n",
    "hate_dict=dict(hate.answer.value_counts())\n",
    "hate_data=pd.DataFrame()\n",
    "\n",
    "hate_data[\"name\"]=[item.upper() for item in hate_dict.keys()]\n",
    "hate_data[\"value\"]=hate_dict.values()\n",
    "\n",
    "\n",
    "colors = ['lightslategray',] * 20\n",
    "\n",
    "fig = go.Figure(data=[go.Bar(\n",
    "    x=hate_data[:20].name,\n",
    "    y=hate_data[:20].value,\n",
    "    marker_color=colors \n",
    ")])\n",
    "fig.update_layout(title_text='Totaly Hated Programing Language')"
   ]
  },
  {
   "attachments": {},
   "cell_type": "markdown",
   "metadata": {},
   "source": [
    "<img src=\"images/4.png\">"
   ]
  },
  {
   "cell_type": "code",
   "execution_count": null,
   "metadata": {},
   "outputs": [],
   "source": [
    "love=df[df.category2==\"love\"]\n",
    "love\n",
    "love_dict=dict(love.answer.value_counts())\n",
    "love_data=pd.DataFrame()\n",
    "love_data[\"name\"]=[item.upper() for item in love_dict.keys()]\n",
    "love_data[\"value\"]=love_dict.values()\n",
    "\n",
    "colors = ['rgb(55, 83, 109)',] * 20\n",
    "\n",
    "fig = go.Figure(data=[go.Bar(\n",
    "    x=love_data[:20].name,\n",
    "    y=love_data[:20].value,\n",
    "    marker_color=colors \n",
    ")])\n",
    "fig.update_layout(title_text='Most Loved Programing Language')"
   ]
  },
  {
   "attachments": {},
   "cell_type": "markdown",
   "metadata": {},
   "source": [
    "<img src=\"images/5.png\">"
   ]
  },
  {
   "cell_type": "code",
   "execution_count": null,
   "metadata": {},
   "outputs": [],
   "source": [
    "beginner=df[df.category2==\"beginner\"]\n",
    "beginner\n",
    "beginner_dict=dict(beginner.answer.value_counts())\n",
    "beginner_data=pd.DataFrame()\n",
    "beginner_data[\"name\"]=[item.upper() for item in beginner_dict.keys()]\n",
    "beginner_data[\"value\"]=beginner_dict.values()\n",
    "\n",
    "colors = ['rgb(26, 118, 255)',] * 20\n",
    "\n",
    "fig = go.Figure(data=[go.Bar(\n",
    "    x=beginner_data[:20].name,\n",
    "    y=beginner_data[:20].value,\n",
    "    marker_color=colors,\n",
    "\n",
    ")])\n",
    "fig.update_layout(title_text='For Beginners Programing Language')"
   ]
  },
  {
   "attachments": {},
   "cell_type": "markdown",
   "metadata": {},
   "source": [
    "<img src=\"images/6.png\">"
   ]
  },
  {
   "cell_type": "code",
   "execution_count": null,
   "metadata": {},
   "outputs": [],
   "source": [
    "curious=df[df.category2==\"curious\"]\n",
    "curious\n",
    "curious_dict=dict(curious.answer.value_counts())\n",
    "curious_data=pd.DataFrame()\n",
    "curious_data[\"name\"]=[item.upper() for item in curious_dict.keys()]\n",
    "curious_data[\"value\"]=curious_dict.values()\n",
    "\n",
    "colors = ['lightslategray',] * 20\n",
    "\n",
    "fig = go.Figure(data=[go.Bar(\n",
    "    x=curious_data[:20].name,\n",
    "    y=curious_data[:20].value,\n",
    "    marker_color=colors,\n",
    "\n",
    ")])\n",
    "fig.update_layout(title_text='Curious')"
   ]
  },
  {
   "attachments": {},
   "cell_type": "markdown",
   "metadata": {},
   "source": [
    "<img src=\"images/7.png\">"
   ]
  },
  {
   "cell_type": "code",
   "execution_count": null,
   "metadata": {},
   "outputs": [],
   "source": [
    "currently=df[df.category2==\"currently\"]\n",
    "currently\n",
    "currently_dict=dict(currently.answer.value_counts())\n",
    "currently_data=pd.DataFrame()\n",
    "currently_data[\"name\"]=[item.upper() for item in currently_dict.keys()]\n",
    "currently_data[\"value\"]=currently_dict.values()\n",
    "\n",
    "      \n",
    "colors = ['indianred',] * 20\n",
    "\n",
    "fig = go.Figure(data=[go.Bar(\n",
    "    x=currently_data[:20].name,\n",
    "    y=currently_data[:20].value,\n",
    "    marker_color=colors\n",
    "\n",
    ")])\n",
    "fig.update_layout(title_text='Currently Programing Language')"
   ]
  },
  {
   "attachments": {},
   "cell_type": "markdown",
   "metadata": {},
   "source": [
    "<img src=\"images/8.png\">"
   ]
  },
  {
   "cell_type": "code",
   "execution_count": null,
   "metadata": {},
   "outputs": [],
   "source": []
  },
  {
   "cell_type": "code",
   "execution_count": null,
   "metadata": {},
   "outputs": [],
   "source": []
  }
 ],
 "metadata": {
  "kernelspec": {
   "display_name": "Python 3",
   "language": "python",
   "name": "python3"
  },
  "language_info": {
   "codemirror_mode": {
    "name": "ipython",
    "version": 3
   },
   "file_extension": ".py",
   "mimetype": "text/x-python",
   "name": "python",
   "nbconvert_exporter": "python",
   "pygments_lexer": "ipython3",
   "version": "3.6.8"
  }
 },
 "nbformat": 4,
 "nbformat_minor": 2
}
