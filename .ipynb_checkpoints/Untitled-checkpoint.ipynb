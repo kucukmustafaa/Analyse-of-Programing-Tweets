{
 "cells": [
  {
   "cell_type": "code",
   "execution_count": null,
   "metadata": {},
   "outputs": [],
   "source": [
    "import pandas as pd \n",
    "import plotly \n",
    "import matplotlib.pyplot as plt \n",
    "import json\n",
    "import plotly.graph_objects as go\n"
   ]
  },
  {
   "cell_type": "code",
   "execution_count": null,
   "metadata": {},
   "outputs": [],
   "source": [
    "df=pd.read_csv(\"tweets-first-lang.csv\")"
   ]
  },
  {
   "cell_type": "code",
   "execution_count": null,
   "metadata": {},
   "outputs": [],
   "source": [
    "df.head()"
   ]
  },
  {
   "cell_type": "code",
   "execution_count": null,
   "metadata": {},
   "outputs": [],
   "source": [
    "df.tail()"
   ]
  },
  {
   "cell_type": "code",
   "execution_count": null,
   "metadata": {},
   "outputs": [],
   "source": [
    "df.columns"
   ]
  },
  {
   "cell_type": "code",
   "execution_count": null,
   "metadata": {},
   "outputs": [],
   "source": [
    "df.info()"
   ]
  },
  {
   "cell_type": "code",
   "execution_count": null,
   "metadata": {},
   "outputs": [],
   "source": [
    "df.created_at=pd.to_datetime(df[\"created_at\"])"
   ]
  },
  {
   "cell_type": "code",
   "execution_count": null,
   "metadata": {},
   "outputs": [],
   "source": [
    "df.head()"
   ]
  },
  {
   "cell_type": "code",
   "execution_count": null,
   "metadata": {},
   "outputs": [],
   "source": [
    "filters=(\"first language\",\"had difficulties\",\"most used\",\"beginner\",\"love\",\"hate\",\"curious\",\"insteresting\",\"currently\")\n",
    "def filter1(x):\n",
    "    if x.lower() in filters  :\n",
    "        return \"True\"\n",
    "    else:\n",
    "        return \"False\"\n",
    "df[\"filter1\"]=df.category2.apply(lambda x:filter1(x))"
   ]
  },
  {
   "cell_type": "code",
   "execution_count": null,
   "metadata": {},
   "outputs": [],
   "source": [
    "df.filter1.unique()"
   ]
  },
  {
   "cell_type": "code",
   "execution_count": null,
   "metadata": {},
   "outputs": [],
   "source": [
    "df=df[df.filter1==\"True\"]\n",
    "df\n"
   ]
  },
  {
   "cell_type": "code",
   "execution_count": null,
   "metadata": {},
   "outputs": [],
   "source": [
    "df.category2.unique()"
   ]
  },
  {
   "cell_type": "code",
   "execution_count": null,
   "metadata": {},
   "outputs": [],
   "source": [
    "df=df[[\"category2\",\"answer\"]].copy()"
   ]
  },
  {
   "cell_type": "code",
   "execution_count": null,
   "metadata": {
    "scrolled": true
   },
   "outputs": [],
   "source": [
    "df"
   ]
  },
  {
   "cell_type": "code",
   "execution_count": null,
   "metadata": {},
   "outputs": [],
   "source": [
    "#list(df.answer.unique())"
   ]
  },
  {
   "cell_type": "code",
   "execution_count": null,
   "metadata": {},
   "outputs": [],
   "source": [
    "programing_list=list()\n",
    "with open(\"data.txt\") as dosya:\n",
    "    data=json.load(dosya)\n",
    "    for item in data[\"itemListElement\"]:\n",
    "        programing_list.append(item[\"item\"][\"name\"].lower())\n",
    "programing_list=tuple(programing_list)\n",
    "#programing_list"
   ]
  },
  {
   "cell_type": "code",
   "execution_count": null,
   "metadata": {},
   "outputs": [],
   "source": [
    "def filter2(x):\n",
    "    if x in programing_list :\n",
    "        return \"True\"\n",
    "    else:\n",
    "        return \"False\"\n",
    "df[\"filter2\"]=df.answer.apply(lambda x:filter2(x))\n",
    "df"
   ]
  },
  {
   "cell_type": "code",
   "execution_count": null,
   "metadata": {},
   "outputs": [],
   "source": [
    "df=df[df.filter2==\"True\"]\n",
    "df"
   ]
  },
  {
   "cell_type": "code",
   "execution_count": null,
   "metadata": {},
   "outputs": [],
   "source": [
    "df.category2.unique()"
   ]
  },
  {
   "cell_type": "code",
   "execution_count": null,
   "metadata": {},
   "outputs": [],
   "source": [
    "had_diff=df[df.category2==\"had difficulties\"]\n",
    "had_diff\n",
    "had_diff_dict=dict(had_diff.answer.value_counts())\n",
    "had_diff_dFrame=pd.DataFrame()\n",
    "had_diff_dFrame[\"name\"]=[item.upper() for item in had_diff_dict.keys()]\n",
    "had_diff_dFrame[\"value\"]=had_diff_dict.values()\n",
    "had_diff_dFrame\n",
    "\n",
    "\n",
    "colors = ['lightslategray',] * 20\n",
    "\n",
    "fig = go.Figure(data=[go.Bar(\n",
    "    x=had_diff_dFrame[:20].name,\n",
    "    y=had_diff_dFrame[:20].value,\n",
    "    marker_color=colors # marker color can be a single color value or an iterable\n",
    ")])\n",
    "fig.update_layout(title_text='Had difficulties Programing Language')"
   ]
  },
  {
   "cell_type": "code",
   "execution_count": null,
   "metadata": {},
   "outputs": [],
   "source": [
    "first_lang=df[df.category2==\"first language\"]\n",
    "first_lang\n",
    "first_lang_dict=dict(first_lang.answer.value_counts())\n",
    "first_lang_data=pd.DataFrame()\n",
    "first_lang_data[\"name\"]=[item.upper() for item in first_lang_dict.keys()]\n",
    "first_lang_data[\"value\"]=first_lang_dict.values()\n",
    "\n",
    "colors = ['lightslategray',] * 20\n",
    "\n",
    "fig = go.Figure(data=[go.Bar(\n",
    "    x=first_lang_data[:20].name,\n",
    "    y=first_lang_data[:20].value,\n",
    "    marker_color=colors # marker color can be a single color value or an iterable\n",
    ")])\n",
    "fig.update_layout(title_text='First Programing Language')"
   ]
  },
  {
   "cell_type": "code",
   "execution_count": null,
   "metadata": {},
   "outputs": [],
   "source": [
    "most=df[df.category2==\"most used\"]\n",
    "most\n",
    "most_dict=dict(most.answer.value_counts())\n",
    "most_data=pd.DataFrame()\n",
    "most_data[\"name\"]=[item.upper() for item in most_dict.keys()]\n",
    "most_data[\"value\"]=most_dict.values()\n",
    "\n",
    "\n",
    "colors = ['lightslategray',] * 20\n",
    "\n",
    "fig = go.Figure(data=[go.Bar(\n",
    "    x=most_data[:20].name,\n",
    "    y=most_data[:20].value,\n",
    "    marker_color=colors # marker color can be a single color value or an iterable\n",
    ")])\n",
    "fig.update_layout(title_text='Most used programing language')"
   ]
  },
  {
   "cell_type": "code",
   "execution_count": null,
   "metadata": {},
   "outputs": [],
   "source": [
    "hate=df[df.category2==\"hate\"]\n",
    "hate\n",
    "hate_dict=dict(hate.answer.value_counts())\n",
    "hate_data=pd.DataFrame()\n",
    "\n",
    "hate_data[\"name\"]=[item.upper() for item in hate_dict.keys()]\n",
    "hate_data[\"value\"]=hate_dict.values()\n",
    "\n",
    "\n",
    "colors = ['lightslategray',] * 20\n",
    "\n",
    "fig = go.Figure(data=[go.Bar(\n",
    "    x=hate_data[:20].name,\n",
    "    y=hate_data[:20].value,\n",
    "    marker_color=colors \n",
    ")])\n",
    "fig.update_layout(title_text='Totaly Hated Programing Language')"
   ]
  },
  {
   "cell_type": "code",
   "execution_count": null,
   "metadata": {},
   "outputs": [],
   "source": [
    "love=df[df.category2==\"love\"]\n",
    "love\n",
    "love_dict=dict(love.answer.value_counts())\n",
    "love_data=pd.DataFrame()\n",
    "love_data[\"name\"]=[item.upper() for item in love_dict.keys()]\n",
    "love_data[\"value\"]=love_dict.values()\n",
    "\n",
    "colors = ['rgb(55, 83, 109)',] * 20\n",
    "\n",
    "fig = go.Figure(data=[go.Bar(\n",
    "    x=love_data[:20].name,\n",
    "    y=love_data[:20].value,\n",
    "    marker_color=colors \n",
    ")])\n",
    "fig.update_layout(title_text='Most Loved Programing Language')"
   ]
  },
  {
   "cell_type": "code",
   "execution_count": null,
   "metadata": {},
   "outputs": [],
   "source": [
    "beginner=df[df.category2==\"beginner\"]\n",
    "beginner\n",
    "beginner_dict=dict(beginner.answer.value_counts())\n",
    "beginner_data=pd.DataFrame()\n",
    "beginner_data[\"name\"]=[item.upper() for item in beginner_dict.keys()]\n",
    "beginner_data[\"value\"]=beginner_dict.values()\n",
    "\n",
    "colors = ['rgb(26, 118, 255)',] * 20\n",
    "\n",
    "fig = go.Figure(data=[go.Bar(\n",
    "    x=beginner_data[:20].name,\n",
    "    y=beginner_data[:20].value,\n",
    "    marker_color=colors,\n",
    "\n",
    ")])\n",
    "fig.update_layout(title_text='For Beginners Programing Language')"
   ]
  },
  {
   "cell_type": "code",
   "execution_count": null,
   "metadata": {},
   "outputs": [],
   "source": [
    "curious=df[df.category2==\"curious\"]\n",
    "curious\n",
    "curious_dict=dict(curious.answer.value_counts())\n",
    "curious_data=pd.DataFrame()\n",
    "curious_data[\"name\"]=[item.upper() for item in curious_dict.keys()]\n",
    "curious_data[\"value\"]=curious_dict.values()\n",
    "\n",
    "colors = ['lightslategray',] * 20\n",
    "\n",
    "fig = go.Figure(data=[go.Bar(\n",
    "    x=curious_data[:20].name,\n",
    "    y=curious_data[:20].value,\n",
    "    marker_color=colors,\n",
    "\n",
    ")])\n",
    "fig.update_layout(title_text='Curious')"
   ]
  },
  {
   "cell_type": "code",
   "execution_count": null,
   "metadata": {},
   "outputs": [],
   "source": [
    "currently=df[df.category2==\"currently\"]\n",
    "currently\n",
    "currently_dict=dict(currently.answer.value_counts())\n",
    "currently_data=pd.DataFrame()\n",
    "currently_data[\"name\"]=[item.upper() for item in currently_dict.keys()]\n",
    "currently_data[\"value\"]=currently_dict.values()\n",
    "\n",
    "      \n",
    "colors = ['indianred',] * 20\n",
    "\n",
    "fig = go.Figure(data=[go.Bar(\n",
    "    x=currently_data[:20].name,\n",
    "    y=currently_data[:20].value,\n",
    "    marker_color=colors\n",
    "\n",
    ")])\n",
    "fig.update_layout(title_text='Currently Programing Language')"
   ]
  },
  {
   "cell_type": "code",
   "execution_count": null,
   "metadata": {},
   "outputs": [],
   "source": []
  },
  {
   "cell_type": "code",
   "execution_count": null,
   "metadata": {},
   "outputs": [],
   "source": []
  },
  {
   "cell_type": "code",
   "execution_count": null,
   "metadata": {},
   "outputs": [],
   "source": []
  }
 ],
 "metadata": {
  "kernelspec": {
   "display_name": "Python 3",
   "language": "python",
   "name": "python3"
  },
  "language_info": {
   "codemirror_mode": {
    "name": "ipython",
    "version": 3
   },
   "file_extension": ".py",
   "mimetype": "text/x-python",
   "name": "python",
   "nbconvert_exporter": "python",
   "pygments_lexer": "ipython3",
   "version": "3.6.8"
  }
 },
 "nbformat": 4,
 "nbformat_minor": 2
}
